{
 "cells": [
  {
   "cell_type": "code",
   "execution_count": null,
   "metadata": {},
   "outputs": [],
   "source": [
    "letras = \"BCDFGHJKLMNPQRSTVXYWZ\"\n",
    "vogal = \"AEIOU\"\n",
    "vogal2 = \"AEIOU\"\n",
    "verifica = 0\n",
    "verifica1 = 100\n",
    "import random\n",
    "\n",
    "def randomicamenterandom():\n",
    "    posicao = random.randint(0,len(vogal) -1)\n",
    "    return posicao\n",
    "\n",
    "def randomica():\n",
    "    posicao = random.randint(0,len(vogal) -1)\n",
    "    return posicao\n",
    "\n",
    "def randomicamente():\n",
    "    posicao = random.randint(0,len(vogal2) -1)\n",
    "    return posicao\n",
    "\n",
    "nome = ''\n",
    "sobrenome = ''\n",
    "for i in range(0, 1000):\n",
    "    for letra in letras and vog in vogal and vogg in vogal2:\n",
    "        nome = letra[randomicamenterandom() + vog[randomica()]+ vogg[randomicamente()]\n",
    "        sobrenome = letra[randomicamenterandom()] + vog[randomica()] + vogg[randomicamente()] + letra[randomicamenterandom()] + vog[randomicamente()]\n",
    "\n",
    "print(nome + sobrenome)\n",
    "        "
   ]
  },
  {
   "cell_type": "code",
   "execution_count": null,
   "metadata": {},
   "outputs": [],
   "source": [
    "import random\n",
    "\n",
    "\n",
    "move = [\n",
    "    '''\n",
    "      0/\n",
    "     <|\n",
    "      |\n",
    "     /\\\n",
    "    ''', \n",
    "    '''\n",
    "      0/\n",
    "     /|\n",
    "      |\n",
    "     /|\n",
    "    ''',\n",
    "    '''\n",
    "     \\0\n",
    "      |>\n",
    "      |\n",
    "      |\\\n",
    "    ''', \n",
    "    '''\n",
    "      0\n",
    "     /|\\\n",
    "      |\n",
    "     /|\n",
    "    ''',\n",
    "    '''\n",
    "     \\0\n",
    "      |\\\n",
    "      |\n",
    "      |\\\n",
    "    ''',\n",
    "    '''\n",
    "     \\0/\n",
    "      |\n",
    "      |\n",
    "     /\\\n",
    "    '''\n",
    "]\n",
    "\n",
    "\n",
    "\n",
    "\n",
    "movii = ''\n",
    "def pp():\n",
    "    for i in range(0,1000):\n",
    "        for movii in move:\n",
    "            movii = movii[i]\n",
    "            print(movii)\n",
    "        i+=1\n",
    "        \n",
    "pp()"
   ]
  },
  {
   "cell_type": "code",
   "execution_count": 13,
   "metadata": {},
   "outputs": [
    {
     "name": "stdout",
     "output_type": "stream",
     "text": [
      "[{'Nome': 'victor', 'idade': '21', 'sexo': 'M', 'cpf': '12415'}]\n",
      "[{'Nome': 'victor', 'idade': '21', 'sexo': 'M', 'cpf': '122135'}]\n",
      "[{'Nome': 'João Victor', 'idade': '21', 'sexo': 'M', 'cpf': '12412151'}]\n",
      "[{'Nome': 'Gleize Rolfman', 'idade': '55', 'sexo': 'F', 'cpf': '171.174.666-13'}]\n",
      "[{'Nome': 'João Victor', 'idade': '21', 'sexo': 'M', 'cpf': '12415156'}]\n",
      "[{'Nome': 'joão victor', 'idade': '21', 'sexo': 'M', 'cpf': '1231215'}]\n",
      "[{'Nome': 'Gleize ', 'idade': '55', 'sexo': 'F', 'cpf': '2515135'}]\n",
      "[{'Nome': 'João Victor Palmeira da Silva', 'idade': '21', 'sexo': 'M', 'cpf': '126.915.333-15'}, {'Nome': 'Megan Fox', 'idade': '33', 'sexo': 'F', 'cpf': '125.696.105-63'}]\n",
      "\n"
     ]
    }
   ],
   "source": [
    "data = open('Arquivo_python/dados.txt','r')\n",
    "variavel = data.read()\n",
    "data.close()\n",
    "print(variavel)"
   ]
  },
  {
   "cell_type": "code",
   "execution_count": 5,
   "metadata": {},
   "outputs": [
    {
     "data": {
      "text/plain": [
       "str"
      ]
     },
     "execution_count": 5,
     "metadata": {},
     "output_type": "execute_result"
    }
   ],
   "source": [
    "type(variavel)"
   ]
  },
  {
   "cell_type": "code",
   "execution_count": 35,
   "metadata": {},
   "outputs": [],
   "source": [
    "retirada = '[]{}'\n",
    "retirada2 = '\"{}'"
   ]
  },
  {
   "cell_type": "code",
   "execution_count": 38,
   "metadata": {},
   "outputs": [
    {
     "name": "stdout",
     "output_type": "stream",
     "text": [
      "'Nome': 'victor', 'idade': '21', 'sexo': 'M', 'cpf': '12415'\n",
      "'Nome': 'victor', 'idade': '21', 'sexo': 'M', 'cpf': '122135'\n",
      "'Nome': 'João Victor', 'idade': '21', 'sexo': 'M', 'cpf': '12412151'\n",
      "'Nome': 'Gleize Rolfman', 'idade': '55', 'sexo': 'F', 'cpf': '171.174.666-13'\n",
      "'Nome': 'João Victor', 'idade': '21', 'sexo': 'M', 'cpf': '12415156'\n",
      "'Nome': 'joão victor', 'idade': '21', 'sexo': 'M', 'cpf': '1231215'\n",
      "'Nome': 'Gleize ', 'idade': '55', 'sexo': 'F', 'cpf': '2515135'\n",
      "'Nome': 'João Victor Palmeira da Silva', 'idade': '21', 'sexo': 'M', 'cpf': '126.915.333-15', 'Nome': 'Megan Fox', 'idade': '33', 'sexo': 'F', 'cpf': '125.696.105-63'\n",
      "\n"
     ]
    }
   ],
   "source": [
    "for i in range(0, len(retirada)):\n",
    "    variavel = variavel.replace(retirada[i],'')\n",
    "    \n",
    "print(variavel)"
   ]
  },
  {
   "cell_type": "code",
   "execution_count": 46,
   "metadata": {},
   "outputs": [],
   "source": [
    "re = variavel.split(',' and '\\n')"
   ]
  },
  {
   "cell_type": "code",
   "execution_count": 47,
   "metadata": {},
   "outputs": [],
   "source": [
    "dic = {re[0]}"
   ]
  },
  {
   "cell_type": "code",
   "execution_count": 48,
   "metadata": {},
   "outputs": [
    {
     "name": "stdout",
     "output_type": "stream",
     "text": [
      "{\"'Nome': 'victor', 'idade': '21', 'sexo': 'M', 'cpf': '12415'\"}\n"
     ]
    }
   ],
   "source": [
    "print(dic)"
   ]
  },
  {
   "cell_type": "code",
   "execution_count": 49,
   "metadata": {},
   "outputs": [],
   "source": [
    "dic = str(dic)"
   ]
  },
  {
   "cell_type": "code",
   "execution_count": 50,
   "metadata": {},
   "outputs": [],
   "source": [
    "for i in range(0, len(retirada2)-1):\n",
    "    dic = dic.replace(retirada2[i],'')"
   ]
  },
  {
   "cell_type": "code",
   "execution_count": 51,
   "metadata": {},
   "outputs": [],
   "source": [
    "dic = {dic}"
   ]
  },
  {
   "cell_type": "code",
   "execution_count": 52,
   "metadata": {},
   "outputs": [
    {
     "name": "stdout",
     "output_type": "stream",
     "text": [
      "{\"'Nome': 'victor', 'idade': '21', 'sexo': 'M', 'cpf': '12415'}\"}\n"
     ]
    }
   ],
   "source": [
    "print(dic)"
   ]
  },
  {
   "cell_type": "code",
   "execution_count": null,
   "metadata": {},
   "outputs": [],
   "source": []
  }
 ],
 "metadata": {
  "kernelspec": {
   "display_name": "Python 3",
   "language": "python",
   "name": "python3"
  },
  "language_info": {
   "codemirror_mode": {
    "name": "ipython",
    "version": 3
   },
   "file_extension": ".py",
   "mimetype": "text/x-python",
   "name": "python",
   "nbconvert_exporter": "python",
   "pygments_lexer": "ipython3",
   "version": "3.6.5"
  }
 },
 "nbformat": 4,
 "nbformat_minor": 2
}
